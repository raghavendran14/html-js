{
 "cells": [
  {
   "cell_type": "markdown",
   "id": "8fbff20c",
   "metadata": {},
   "source": [
    "#### NUS Python Part - 1  "
   ]
  },
  {
   "cell_type": "markdown",
   "id": "fb52e78e",
   "metadata": {},
   "source": []
  },
  {
   "cell_type": "code",
   "execution_count": 3,
   "id": "f213fbec",
   "metadata": {},
   "outputs": [
    {
     "name": "stdout",
     "output_type": "stream",
     "text": [
      "The value of a is: 10\n",
      "Name: Raghav\n",
      "Age: 30\n"
     ]
    }
   ],
   "source": [
    "a = 10\n",
    "print(\"The value of a is:\", a)\n",
    "\n",
    "# assignment\n",
    "name = \"Raghav\"\n",
    "age = 30\n",
    "\n",
    "print(\"Name:\", name)\n",
    "print(\"Age:\", age)\n"
   ]
  },
  {
   "cell_type": "code",
   "execution_count": 5,
   "id": "0b755bac",
   "metadata": {},
   "outputs": [
    {
     "name": "stdout",
     "output_type": "stream",
     "text": [
      "X: 5\n",
      "Y: 10\n",
      "Z: 15\n",
      "After swapping:\n",
      "X: 10\n",
      "Y: 5\n"
     ]
    }
   ],
   "source": [
    "# assigning multiple values\n",
    "x, y, z = 5, 10, 15\n",
    "print(\"X:\", x)\n",
    "print(\"Y:\", y)\n",
    "print(\"Z:\", z)\n",
    "\n",
    "## swapping values\n",
    "x, y = y, x\n",
    "print(\"After swapping:\")\n",
    "print(\"X:\", x)\n",
    "print(\"Y:\", y)\n"
   ]
  },
  {
   "cell_type": "code",
   "execution_count": 12,
   "id": "b9ee45f4",
   "metadata": {},
   "outputs": [
    {
     "name": "stdout",
     "output_type": "stream",
     "text": [
      "Sum: 30\n",
      "Sum: 31.0\n",
      "Concatenated String: Hello World\n",
      "Logical AND: False\n",
      "Value of m: None\n"
     ]
    }
   ],
   "source": [
    "## Common data types\n",
    "# Integer\n",
    "a = 10\n",
    "b = 20\n",
    "c = a + b\n",
    "print(\"Sum:\", c)\n",
    "\n",
    "# Float\n",
    "d = 10.5\n",
    "e = 20.5\n",
    "f = d + e\n",
    "print(\"Sum:\", f)\n",
    "\n",
    "# String\n",
    "g = \"Hello\"\n",
    "h = \"World\"\n",
    "i = g + \" \" + h\n",
    "print(\"Concatenated String:\", i)\n",
    "\n",
    "# Boolean\n",
    "j = True\n",
    "k = False\n",
    "l = j and k\n",
    "print(\"Logical AND:\", l)\n",
    "\n",
    "# None\n",
    "m = None\n",
    "print(\"Value of m:\", m)\n"
   ]
  },
  {
   "cell_type": "code",
   "execution_count": 17,
   "id": "8d4bfe7c",
   "metadata": {},
   "outputs": [
    {
     "name": "stdout",
     "output_type": "stream",
     "text": [
      "Type of a: <class 'str'>\n",
      "Is a an integer? True\n",
      "Is d a float? True\n",
      "Is g a string? True\n",
      "Is j a boolean? True\n",
      "Is m NoneType? True\n",
      "Is 'a' a float or not? False\n"
     ]
    }
   ],
   "source": [
    "## Type checks\n",
    "print(\"Type of a:\", type(g))\n",
    "\n",
    "print(\"Is a an integer?\", isinstance(a, int))\n",
    "print(\"Is d a float?\", isinstance(d, float))\n",
    "print(\"Is g a string?\", isinstance(g, str))\n",
    "print(\"Is j a boolean?\", isinstance(j, bool))\n",
    "print(\"Is m NoneType?\", isinstance(m, type(None)))\n",
    "\n",
    "\n",
    "print(\"Is 'a' a float or not?\", isinstance(a, float))\n",
    "\n"
   ]
  },
  {
   "cell_type": "code",
   "execution_count": 19,
   "id": "22ee93b2",
   "metadata": {},
   "outputs": [
    {
     "name": "stdout",
     "output_type": "stream",
     "text": [
      "3 1 8\n",
      "3.5\n"
     ]
    }
   ],
   "source": [
    "# arithmetic\n",
    "print(7 // 2, 7 % 2, 2 ** 3)   # 3 1 8\n",
    "\n",
    "print(7/2)\n"
   ]
  },
  {
   "cell_type": "code",
   "execution_count": 22,
   "id": "186a795d",
   "metadata": {},
   "outputs": [
    {
     "name": "stdout",
     "output_type": "stream",
     "text": [
      "Is 'apple' in fruits? True\n",
      "Is 'orange' in fruits? False\n",
      "True\n",
      "False\n"
     ]
    }
   ],
   "source": [
    "# membership\n",
    "fruits = [\"apple\", \"banana\", \"cherry\"]\n",
    "print(\"Is 'apple' in fruits?\", \"apple\" in fruits)\n",
    "print(\"Is 'orange' in fruits?\", \"orange\" in fruits)\n",
    "\n",
    "print(\"apple\" in fruits)\n",
    "print(\"orange\" in fruits)\n"
   ]
  },
  {
   "cell_type": "code",
   "execution_count": 25,
   "id": "4bb77fb4",
   "metadata": {},
   "outputs": [
    {
     "name": "stdout",
     "output_type": "stream",
     "text": [
      "Is list1 identical to list2? True\n",
      "Is list1 identical to list3? True\n"
     ]
    }
   ],
   "source": [
    "# identity\n",
    "list1 = [1, 2, 3]\n",
    "list2 = list1\n",
    "\n",
    "list3 = [1,2,3]\n",
    "print(\"Is list1 identical to list2?\", list1 is list2)\n",
    "print(\"Is list1 identical to list3?\", list1 is not list3)\n"
   ]
  },
  {
   "cell_type": "code",
   "execution_count": null,
   "id": "63a11f45",
   "metadata": {},
   "outputs": [
    {
     "name": "stdout",
     "output_type": "stream",
     "text": [
      "Hello\n",
      "Line2\n",
      "NUS Test\n",
      "End\n",
      "\n"
     ]
    }
   ],
   "source": [
    "## File I/O \n",
    "# write\n",
    "with open(\"notes.txt\", \"w\", encoding=\"utf-8\") as f:\n",
    "    f.write(\"Hello\\nLine2\\n\")\n",
    "\n",
    "# read\n",
    "with open(\"notes.txt\", \"r\", encoding=\"utf-8\") as f:\n",
    "    text = f.read()\n",
    "    print(text)\n",
    "\n"
   ]
  },
  {
   "cell_type": "code",
   "execution_count": 32,
   "id": "63370bbf",
   "metadata": {},
   "outputs": [
    {
     "name": "stdout",
     "output_type": "stream",
     "text": [
      "C\n"
     ]
    }
   ],
   "source": [
    "# if / elif / else\n",
    "\n",
    "score = 70\n",
    "if score >= 90:\n",
    "    grade = \"A\"\n",
    "elif score >= 75:\n",
    "    grade = \"B\"\n",
    "else:\n",
    "    grade = \"C\"\n",
    "print(grade)\n"
   ]
  },
  {
   "cell_type": "code",
   "execution_count": 35,
   "id": "97020b7d",
   "metadata": {},
   "outputs": [
    {
     "name": "stdout",
     "output_type": "stream",
     "text": [
      "empty\n",
      "zero\n",
      "empty dict\n"
     ]
    }
   ],
   "source": [
    "# Falsy: 0, 0.0, \"\", [], {}, set(), None, False\n",
    "\n",
    "x = []\n",
    "if not x:\n",
    "    print(\"empty\")\n",
    "\n",
    "y = 0\n",
    "if not y:\n",
    "    print(\"zero\")\n",
    "\n",
    "z = {}\n",
    "if not z:\n",
    "    print(\"empty dict\")\n"
   ]
  },
  {
   "cell_type": "code",
   "execution_count": 36,
   "id": "09870020",
   "metadata": {},
   "outputs": [
    {
     "name": "stdout",
     "output_type": "stream",
     "text": [
      "Status: pass\n",
      "You passed!\n"
     ]
    }
   ],
   "source": [
    "# Ternary Expression\n",
    "status = \"pass\" if score >= 50 else \"fail\"\n",
    "\n",
    "print(\"Status:\", status)\n",
    "\n",
    "##\n",
    "if (score >= 50):\n",
    "    print(\"You passed!\")\n",
    "else:\n",
    "    print(\"You failed.\")"
   ]
  },
  {
   "cell_type": "code",
   "execution_count": null,
   "id": "1eebbaac",
   "metadata": {},
   "outputs": [
    {
     "name": "stdout",
     "output_type": "stream",
     "text": [
      "1 a\n",
      "2 b\n",
      "3 c\n"
     ]
    }
   ],
   "source": [
    "# terative Control Flow with Python\n",
    "\n",
    "# iterate over list\n",
    "testList = [1,2,3]\n",
    "for i in testList:\n",
    "    print(i)\n",
    "\n",
    "# range\n",
    "print(\"Range from 0 to 4:\")\n",
    "for i in range(5):         # 0..4\n",
    "    print(i)\n",
    "\n",
    "# enumerate\n",
    "names = [\"a\",\"b\",\"c\"]\n",
    "for idx, n in enumerate(names, start=1):\n",
    "    print(idx, n)\n",
    "\n",
    "\n"
   ]
  },
  {
   "cell_type": "code",
   "execution_count": null,
   "id": "7245da3d",
   "metadata": {},
   "outputs": [],
   "source": []
  },
  {
   "cell_type": "code",
   "execution_count": 45,
   "id": "e4c907fc",
   "metadata": {},
   "outputs": [
    {
     "name": "stdout",
     "output_type": "stream",
     "text": [
      "3\n",
      "2\n",
      "1\n"
     ]
    }
   ],
   "source": [
    "n = 3\n",
    "while n > 0:\n",
    "    print(n)\n",
    "    n -= 1 # n = n - 1\n"
   ]
  },
  {
   "cell_type": "code",
   "execution_count": 59,
   "id": "5befa2e6",
   "metadata": {},
   "outputs": [
    {
     "name": "stdout",
     "output_type": "stream",
     "text": [
      "Squares: [0, 1, 4, 9, 16]\n",
      "Evens: {0, 2, 4, 6, 8}\n",
      "Mapping: {0: 0, 1: 0, 2: 1, 3: 1, 4: 2}\n",
      "Generator: [0, 1, 4, 9, 16]\n"
     ]
    }
   ],
   "source": [
    "#Comprehensions (compact and fast)\n",
    "\n",
    "squares = [x*x for x in range(5)]  # list comprehension\n",
    "print(\"Squares:\", squares) \n",
    "\n",
    "evens = {x for x in range(10) if x % 2 == 0}       # set comp\n",
    "\n",
    "print(\"Evens:\", evens)\n",
    "\n",
    "mapping = {x: x//2 for x in range(5)}               # dict comp\n",
    "\n",
    "print(\"Mapping:\", mapping)\n",
    "\n",
    "\n",
    "\n",
    "gen = (x*x for x in range(5))                      # generator expr\n",
    "\n",
    "print(\"Generator:\", list(gen))\n"
   ]
  },
  {
   "cell_type": "code",
   "execution_count": 61,
   "id": "40d385cd",
   "metadata": {},
   "outputs": [
    {
     "data": {
      "text/plain": [
       "'Hello, Alice!'"
      ]
     },
     "execution_count": 61,
     "metadata": {},
     "output_type": "execute_result"
    }
   ],
   "source": [
    "#Python Functions\n",
    "def greet(name):      # defined function or called function\n",
    "    \"\"\"\n",
    "    Function to greet a person\n",
    "        NUS Test\n",
    "    \"\"\"\n",
    "    return f\"Hello, {name}!\"\n",
    "\n",
    "greet(\"Alice\") # calling the function"
   ]
  },
  {
   "cell_type": "code",
   "execution_count": 62,
   "id": "d8794099",
   "metadata": {},
   "outputs": [
    {
     "name": "stdout",
     "output_type": "stream",
     "text": [
      "9\n",
      "27\n"
     ]
    }
   ],
   "source": [
    "# Default args, positional, keyword\n",
    "\n",
    "def power(x, n=2):           # n has default\n",
    "    return x ** n\n",
    "\n",
    "print(power(3))     # 9\n",
    "print(power(3, 3))  # 27\n"
   ]
  },
  {
   "cell_type": "code",
   "execution_count": 66,
   "id": "0b0bab92",
   "metadata": {},
   "outputs": [
    {
     "name": "stdout",
     "output_type": "stream",
     "text": [
      "a: 1\n",
      "args: (2, 3, 4)\n",
      "kwargs: {'name': 'Raghav', 'age': 30}\n"
     ]
    }
   ],
   "source": [
    "# Variable args and kwargs\n",
    "\n",
    "\n",
    "def mixed(a, *args, **kwargs):\n",
    "    print(\"a:\", a)\n",
    "    print(\"args:\", args)\n",
    "    print(\"kwargs:\", kwargs)\n",
    "\n",
    "mixed(1, 2, 3, 4, name=\"Raghav\", age=30)\n"
   ]
  },
  {
   "cell_type": "code",
   "execution_count": null,
   "id": "536506b2",
   "metadata": {},
   "outputs": [
    {
     "name": "stdout",
     "output_type": "stream",
     "text": [
      "5\n",
      "Doubled case1: [2, 4, 6]\n",
      "Doubled: [2, 4, 6]\n",
      "Filtered: [2]\n"
     ]
    }
   ],
   "source": [
    "# Lambda (anonymous)\n",
    "\n",
    "add = lambda x, y: x + y\n",
    "\n",
    "print(add(2,3)) # 5\n",
    "\n",
    "\n",
    "# Higher-order functions\n",
    "\n",
    "\n",
    "nums = [1,2,3]\n",
    "doubled = list(map(lambda x: x*2, nums))\n",
    "print(\"Doubled case1:\", doubled)\n",
    "\n",
    "doubled = (map(lambda x: x*2, nums))\n",
    "print(\"Doubled:\", list(doubled))\n",
    "\n",
    "\n",
    "\n",
    "filtered = list(filter(lambda x: x%2==1, nums))\n",
    "\n",
    "print(\"Filtered:\", filtered)\n",
    "\n"
   ]
  },
  {
   "cell_type": "code",
   "execution_count": 73,
   "id": "77568ef2",
   "metadata": {},
   "outputs": [
    {
     "name": "stdout",
     "output_type": "stream",
     "text": [
      "5\n"
     ]
    }
   ],
   "source": [
    "# Docstrings & typing (optional)\n",
    "\n",
    "\n",
    "def add(a: int, b: int) -> int:\n",
    "    \"\"\"Add two integers.\"\"\"\n",
    "    return a + b\n",
    "\n",
    "print(add(2, 3))  # 5\n"
   ]
  }
 ],
 "metadata": {
  "kernelspec": {
   "display_name": "Python 3",
   "language": "python",
   "name": "python3"
  },
  "language_info": {
   "codemirror_mode": {
    "name": "ipython",
    "version": 3
   },
   "file_extension": ".py",
   "mimetype": "text/x-python",
   "name": "python",
   "nbconvert_exporter": "python",
   "pygments_lexer": "ipython3",
   "version": "3.9.6"
  }
 },
 "nbformat": 4,
 "nbformat_minor": 5
}
